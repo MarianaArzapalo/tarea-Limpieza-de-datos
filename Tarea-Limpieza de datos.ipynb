{
 "cells": [
  {
   "cell_type": "code",
   "execution_count": null,
   "metadata": {},
   "outputs": [],
   "source": []
  },
  {
   "cell_type": "markdown",
   "metadata": {},
   "source": [
    "Ej 1-Removiendo sobresalientes\n",
    "\n",
    "Usando los dos métodos elimina los sobresalientes del archivo datasets/outlierdat.csv"
   ]
  },
  {
   "cell_type": "code",
   "execution_count": 27,
   "metadata": {},
   "outputs": [],
   "source": [
    "import pandas as pd\n",
    "\n",
    "Location = \"datasets/outlierdata.csv\"\n",
    "df = pd.read_csv(Location)\n",
    "\n",
    "q1 = df['Net Worth'].quantile(.25)\n",
    "q3 = df['Net Worth'].quantile(.75)\n",
    "iqr = q3-q1\n",
    "\n",
    "meanNetWorth = df['Net Worth'].mean()\n",
    "\n",
    "stdNetWorth = df['Net Worth'].std()\n",
    "\n",
    "toprange = meanNetWorth + stdNetWorth * 1.96\n",
    "botrange = meanNetWorth - stdNetWorth * 1.96\n",
    "\n",
    "copydf = df\n",
    "copydf = copydf.drop(copydf[copydf['Net Worth'] > toprange].index)\n",
    "copydf = copydf.tips(copydf[copydf['Net Worth'] < botrange].index)\n",
    "\n",
    "\n",
    "copydf\n"
   ]
  }
 ],
 "metadata": {
  "interpreter": {
   "hash": "8b8334dab9339717f727a1deaf837b322d7a41c20d15cc86be99a8e69ceec8ce"
  },
  "kernelspec": {
   "display_name": "Python 3.8.12 64-bit ('3.8.12')",
   "language": "python",
   "name": "python3"
  },
  "language_info": {
   "codemirror_mode": {
    "name": "ipython",
    "version": 3
   },
   "file_extension": ".py",
   "mimetype": "text/x-python",
   "name": "python",
   "nbconvert_exporter": "python",
   "pygments_lexer": "ipython3",
   "version": "3.8.12"
  },
  "orig_nbformat": 4
 },
 "nbformat": 4,
 "nbformat_minor": 2
}
